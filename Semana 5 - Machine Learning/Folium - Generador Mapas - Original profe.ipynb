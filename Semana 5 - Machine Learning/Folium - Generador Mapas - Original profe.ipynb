{
  "metadata": {
    "kernelspec": {
      "name": "python",
      "display_name": "Pyolite",
      "language": "python"
    },
    "language_info": {
      "codemirror_mode": {
        "name": "python",
        "version": 3
      },
      "file_extension": ".py",
      "mimetype": "text/x-python",
      "name": "python",
      "nbconvert_exporter": "python",
      "pygments_lexer": "ipython3",
      "version": "3.8"
    },
    "colab": {
      "provenance": [],
      "collapsed_sections": [
        "r7UQYaA9hv0o",
        "4-bSEAWPhv0q",
        "WnHFCpdrhv0y"
      ]
    }
  },
  "nbformat_minor": 0,
  "nbformat": 4,
  "cells": [
    {
      "cell_type": "markdown",
      "source": [
        "# Generando mapas con Python"
      ],
      "metadata": {
        "button": false,
        "new_sheet": false,
        "run_control": {
          "read_only": false
        },
        "id": "rNZ5UZmUhv0I"
      }
    },
    {
      "cell_type": "markdown",
      "source": [
        "## Introducción\n",
        "\n",
        "\n",
        "En este laboratorio aprenderemos a crear distintos mapas interactivos. Para ello utilizaremos una nueva librería llamada Folium, una librería creada con el objetivo de visualizar datos geoespaciales. También destacamos que estas visualizaciones es posible realizarlas con plotly, pero hay un límite de veces que podemos llamar a la API para datos geoespaciales, a no ser que paguemos. Por otro lado, folium es completamente gratuito y mas potente."
      ],
      "metadata": {
        "button": false,
        "new_sheet": false,
        "run_control": {
          "read_only": false
        },
        "id": "uoHMi3vhhv0U"
      }
    },
    {
      "cell_type": "markdown",
      "source": [
        "\n",
        "\n",
        "2.  Inmigración a Canadá de 1980 a 2013 - [Flujos migratorios internacionales hacia y desde países seleccionados - La revisión de 2015](http://www.un.org/en/development/desa/population/migration/data/empirical2/migrationflows.shtml?utm_medium=Exinfluencer&utm_source=Exinfluencer&utm_content=000026UJ&utm_term=10006555&utm_id=NA-SkillsNetwork-Channel-SkillsNetworkCoursesIBMDeveloperSkillsNetworkDV0101ENSkillsNetwork20297740-2021-01-01) del sitio web de las Naciones Unidas. El conjunto de datos contiene datos anuales sobre los flujos de migrantes internacionales registrados por los países de destino. Los datos presentan tanto las entradas como las salidas según el lugar de nacimiento, ciudadanía o lugar de residencia anterior/posterior tanto para extranjeros como para nacionales. Para esta lección, nos centraremos en los datos de inmigración canadiense\n"
      ],
      "metadata": {
        "button": false,
        "new_sheet": false,
        "run_control": {
          "read_only": false
        },
        "id": "yWbqQmt7hv0Y"
      }
    },
    {
      "cell_type": "markdown",
      "source": [
        "# Importando las librerías\n"
      ],
      "metadata": {
        "button": false,
        "new_sheet": false,
        "run_control": {
          "read_only": false
        },
        "id": "chBk3NYFhv0Z"
      }
    },
    {
      "cell_type": "code",
      "source": [
        "import numpy as np \n",
        "import pandas as pd\n",
        "import folium"
      ],
      "metadata": {
        "button": false,
        "new_sheet": false,
        "run_control": {
          "read_only": false
        },
        "trusted": true,
        "id": "OUlnbXljhv0g"
      },
      "execution_count": null,
      "outputs": []
    },
    {
      "cell_type": "markdown",
      "source": [
        "# Introducción a Folium <a id=\"4\"></a>\n"
      ],
      "metadata": {
        "button": false,
        "new_sheet": false,
        "run_control": {
          "read_only": false
        },
        "id": "v_VU7x7ohv0h"
      }
    },
    {
      "cell_type": "markdown",
      "source": [
        "Folium es una potente libería de Python que permite crear diferentes tipos de mapas utilizando la librería de javascrip [Leaflet](https://leafletjs.com). Los mapas de Folium son interactivos lo que les da un valor añadido ya que pueden ser integrados en dashboards. "
      ],
      "metadata": {
        "button": false,
        "new_sheet": false,
        "run_control": {
          "read_only": false
        },
        "id": "JlRMglCwhv0i"
      }
    },
    {
      "cell_type": "markdown",
      "source": [
        "Generar un mapamundi es bastante sencillo, simplemente creamos un objeto `folium.Map()` y lo mostramos:"
      ],
      "metadata": {
        "button": false,
        "new_sheet": false,
        "run_control": {
          "read_only": false
        },
        "id": "-mDZj2KWhv0j"
      }
    },
    {
      "cell_type": "code",
      "source": [
        "# definimos el mapamundi\n",
        "world_map = folium.Map()\n",
        "\n",
        "# mostramos el mapamundi\n",
        "world_map"
      ],
      "metadata": {
        "button": false,
        "new_sheet": false,
        "run_control": {
          "read_only": false
        },
        "scrolled": true,
        "trusted": true,
        "id": "-5Ux4eAdhv0k",
        "outputId": "9d51e9df-7c19-440f-f91c-4225da25a38b",
        "colab": {
          "base_uri": "https://localhost:8080/",
          "height": 682
        }
      },
      "execution_count": null,
      "outputs": [
        {
          "output_type": "execute_result",
          "data": {
            "text/plain": [
              "<folium.folium.Map at 0x7f9b5f485b80>"
            ],
            "text/html": [
              "<div style=\"width:100%;\"><div style=\"position:relative;width:100%;height:0;padding-bottom:60%;\"><span style=\"color:#565656\">Make this Notebook Trusted to load map: File -> Trust Notebook</span><iframe srcdoc=\"&lt;!DOCTYPE html&gt;\n",
              "&lt;html&gt;\n",
              "&lt;head&gt;\n",
              "    \n",
              "    &lt;meta http-equiv=&quot;content-type&quot; content=&quot;text/html; charset=UTF-8&quot; /&gt;\n",
              "    \n",
              "        &lt;script&gt;\n",
              "            L_NO_TOUCH = false;\n",
              "            L_DISABLE_3D = false;\n",
              "        &lt;/script&gt;\n",
              "    \n",
              "    &lt;style&gt;html, body {width: 100%;height: 100%;margin: 0;padding: 0;}&lt;/style&gt;\n",
              "    &lt;style&gt;#map {position:absolute;top:0;bottom:0;right:0;left:0;}&lt;/style&gt;\n",
              "    &lt;script src=&quot;https://cdn.jsdelivr.net/npm/leaflet@1.6.0/dist/leaflet.js&quot;&gt;&lt;/script&gt;\n",
              "    &lt;script src=&quot;https://code.jquery.com/jquery-1.12.4.min.js&quot;&gt;&lt;/script&gt;\n",
              "    &lt;script src=&quot;https://maxcdn.bootstrapcdn.com/bootstrap/3.2.0/js/bootstrap.min.js&quot;&gt;&lt;/script&gt;\n",
              "    &lt;script src=&quot;https://cdnjs.cloudflare.com/ajax/libs/Leaflet.awesome-markers/2.0.2/leaflet.awesome-markers.js&quot;&gt;&lt;/script&gt;\n",
              "    &lt;link rel=&quot;stylesheet&quot; href=&quot;https://cdn.jsdelivr.net/npm/leaflet@1.6.0/dist/leaflet.css&quot;/&gt;\n",
              "    &lt;link rel=&quot;stylesheet&quot; href=&quot;https://maxcdn.bootstrapcdn.com/bootstrap/3.2.0/css/bootstrap.min.css&quot;/&gt;\n",
              "    &lt;link rel=&quot;stylesheet&quot; href=&quot;https://maxcdn.bootstrapcdn.com/bootstrap/3.2.0/css/bootstrap-theme.min.css&quot;/&gt;\n",
              "    &lt;link rel=&quot;stylesheet&quot; href=&quot;https://maxcdn.bootstrapcdn.com/font-awesome/4.6.3/css/font-awesome.min.css&quot;/&gt;\n",
              "    &lt;link rel=&quot;stylesheet&quot; href=&quot;https://cdnjs.cloudflare.com/ajax/libs/Leaflet.awesome-markers/2.0.2/leaflet.awesome-markers.css&quot;/&gt;\n",
              "    &lt;link rel=&quot;stylesheet&quot; href=&quot;https://cdn.jsdelivr.net/gh/python-visualization/folium/folium/templates/leaflet.awesome.rotate.min.css&quot;/&gt;\n",
              "    \n",
              "            &lt;meta name=&quot;viewport&quot; content=&quot;width=device-width,\n",
              "                initial-scale=1.0, maximum-scale=1.0, user-scalable=no&quot; /&gt;\n",
              "            &lt;style&gt;\n",
              "                #map_bbb059c3d08448e451136e694a0d1f91 {\n",
              "                    position: relative;\n",
              "                    width: 100.0%;\n",
              "                    height: 100.0%;\n",
              "                    left: 0.0%;\n",
              "                    top: 0.0%;\n",
              "                }\n",
              "            &lt;/style&gt;\n",
              "        \n",
              "&lt;/head&gt;\n",
              "&lt;body&gt;\n",
              "    \n",
              "    \n",
              "            &lt;div class=&quot;folium-map&quot; id=&quot;map_bbb059c3d08448e451136e694a0d1f91&quot; &gt;&lt;/div&gt;\n",
              "        \n",
              "&lt;/body&gt;\n",
              "&lt;script&gt;\n",
              "    \n",
              "    \n",
              "            var map_bbb059c3d08448e451136e694a0d1f91 = L.map(\n",
              "                &quot;map_bbb059c3d08448e451136e694a0d1f91&quot;,\n",
              "                {\n",
              "                    center: [0, 0],\n",
              "                    crs: L.CRS.EPSG3857,\n",
              "                    zoom: 1,\n",
              "                    zoomControl: true,\n",
              "                    preferCanvas: false,\n",
              "                }\n",
              "            );\n",
              "\n",
              "            \n",
              "\n",
              "        \n",
              "    \n",
              "            var tile_layer_2827ab433e09fd5a37ae9bb1cef0063e = L.tileLayer(\n",
              "                &quot;https://{s}.tile.openstreetmap.org/{z}/{x}/{y}.png&quot;,\n",
              "                {&quot;attribution&quot;: &quot;Data by \\u0026copy; \\u003ca href=\\&quot;http://openstreetmap.org\\&quot;\\u003eOpenStreetMap\\u003c/a\\u003e, under \\u003ca href=\\&quot;http://www.openstreetmap.org/copyright\\&quot;\\u003eODbL\\u003c/a\\u003e.&quot;, &quot;detectRetina&quot;: false, &quot;maxNativeZoom&quot;: 18, &quot;maxZoom&quot;: 18, &quot;minZoom&quot;: 0, &quot;noWrap&quot;: false, &quot;opacity&quot;: 1, &quot;subdomains&quot;: &quot;abc&quot;, &quot;tms&quot;: false}\n",
              "            ).addTo(map_bbb059c3d08448e451136e694a0d1f91);\n",
              "        \n",
              "&lt;/script&gt;\n",
              "&lt;/html&gt;\" style=\"position:absolute;width:100%;height:100%;left:0;top:0;border:none !important;\" allowfullscreen webkitallowfullscreen mozallowfullscreen></iframe></div></div>"
            ]
          },
          "metadata": {},
          "execution_count": 2
        }
      ]
    },
    {
      "cell_type": "markdown",
      "source": [
        "**Ejercicio:**  Interacciona con el mapa anterior para encontrar Madrid."
      ],
      "metadata": {
        "button": false,
        "new_sheet": false,
        "run_control": {
          "read_only": false
        },
        "id": "kZ-6XL2ghv0k"
      }
    },
    {
      "cell_type": "markdown",
      "source": [
        "Vamos a crear un mapa centrado alrededor de Canadá y jugar con el nivel de zoom para ver cómo afecta el mapa renderizado.\n",
        "\n",
        "Es posible personalizar esta definición básica especificando donde debe ser centrado el mapa añadiendo un parámetro `location=[LATITUD,LONGITUD]`. También es posible modificar el zoom mediante el parámetro `zoom_start=int`, cuanto mayor este número mas zoom se realiza."
      ],
      "metadata": {
        "button": false,
        "new_sheet": false,
        "run_control": {
          "read_only": false
        },
        "id": "s6MHKGb3hv0l"
      }
    },
    {
      "cell_type": "markdown",
      "source": [
        "#### Ejercicio"
      ],
      "metadata": {
        "id": "ZEDCFypSwTtN"
      }
    },
    {
      "cell_type": "markdown",
      "source": [
        "Sabiendo que las coordinadas de Canadá son [56.130, -106.35] realiza un mapa centrado en Canadá. Elige un valor para el parámetro `zoom_start` que permita visualizar correctamente el país entero."
      ],
      "metadata": {
        "id": "RUFFjIzewVoY"
      }
    },
    {
      "cell_type": "code",
      "source": [
        "#INSERTA AQUÍ TU CÓDIGO\n"
      ],
      "metadata": {
        "button": false,
        "new_sheet": false,
        "run_control": {
          "read_only": false
        },
        "trusted": true,
        "id": "TlhF_8PPhv0l"
      },
      "execution_count": null,
      "outputs": []
    },
    {
      "cell_type": "markdown",
      "source": [
        "Utiliza la página [geodatos](https://www.geodatos.net/coordenadas) para averiguar las coordenadas de España y así realizar un mapa centrado en España."
      ],
      "metadata": {
        "button": false,
        "new_sheet": false,
        "run_control": {
          "read_only": false
        },
        "id": "20FN-Jr4hv0m"
      }
    },
    {
      "cell_type": "code",
      "source": [
        "#INSERTA AQUÍ TU CÓDIGO\n",
        "\n"
      ],
      "metadata": {
        "button": false,
        "new_sheet": false,
        "run_control": {
          "read_only": false
        },
        "tags": [],
        "trusted": true,
        "id": "nQOAirD2hv0n"
      },
      "execution_count": null,
      "outputs": []
    },
    {
      "cell_type": "markdown",
      "source": [
        "Otra propiedad interesante de Folium es la posibilidad de generar mapas con diferentes estilos. Por ejemplo:"
      ],
      "metadata": {
        "button": false,
        "new_sheet": false,
        "run_control": {
          "read_only": false
        },
        "id": "d2y8k_X6hv0n"
      }
    },
    {
      "cell_type": "markdown",
      "source": [
        "### Stamen Toner Maps\n",
        "\n",
        "Estos son mapas en blanco y negro con gran contrastre. Perfectos para estudiar cauces de ríos o zonas costeras. Tienen un gran nivel de detalle de los contornos. Por ejemplo:"
      ],
      "metadata": {
        "button": false,
        "new_sheet": false,
        "run_control": {
          "read_only": false
        },
        "id": "r7UQYaA9hv0o"
      }
    },
    {
      "cell_type": "code",
      "source": [
        "world_map = folium.Map(location=[56.130, -106.35], zoom_start=4, tiles='Stamen Toner')\n",
        "world_map"
      ],
      "metadata": {
        "button": false,
        "new_sheet": false,
        "run_control": {
          "read_only": false
        },
        "trusted": true,
        "id": "wZF333wrhv0o"
      },
      "execution_count": null,
      "outputs": []
    },
    {
      "cell_type": "markdown",
      "source": [
        "### Stamen Terrain Maps\n",
        "\n",
        "Estos mapas contienen relieve del terreno y vegetación natural. También mantienen gran parte de la infrastuctura como carreteras pero reduce la nomenclatura a aquellas mas relevantes. Por ejemplo: "
      ],
      "metadata": {
        "button": false,
        "new_sheet": false,
        "run_control": {
          "read_only": false
        },
        "id": "H_v1J3Hihv0o"
      }
    },
    {
      "cell_type": "code",
      "source": [
        "world_map = folium.Map(location=[56.130, -106.35], zoom_start=4, tiles='Stamen Terrain')\n",
        "world_map"
      ],
      "metadata": {
        "button": false,
        "new_sheet": false,
        "run_control": {
          "read_only": false
        },
        "trusted": true,
        "id": "8_EIV7UFhv0p"
      },
      "execution_count": null,
      "outputs": []
    },
    {
      "cell_type": "markdown",
      "source": [
        "#### Ejercicio"
      ],
      "metadata": {
        "id": "PQ5j6Wdpy9iR"
      }
    },
    {
      "cell_type": "markdown",
      "source": [
        "Crea dos mapas centrados en España siguiendo los diferentes estilos estudiados en los ejemplos anteriores.\n"
      ],
      "metadata": {
        "button": false,
        "new_sheet": false,
        "run_control": {
          "read_only": false
        },
        "id": "MA-r9eDKhv0p"
      }
    },
    {
      "cell_type": "code",
      "source": [
        "#INSERTA AQUÍ TU CÓDIGO\n",
        "\n",
        "spain_map\n",
        "\n"
      ],
      "metadata": {
        "button": false,
        "new_sheet": false,
        "run_control": {
          "read_only": false
        },
        "trusted": true,
        "id": "ADVKfLV5hv0q"
      },
      "execution_count": null,
      "outputs": []
    },
    {
      "cell_type": "markdown",
      "source": [
        "# Mapas con indicadores\n"
      ],
      "metadata": {
        "button": false,
        "new_sheet": false,
        "run_control": {
          "read_only": false
        },
        "id": "4-bSEAWPhv0q"
      }
    },
    {
      "cell_type": "markdown",
      "source": [
        "En esta sección trabajaremos con el siguiente copnjiunto de datos:\n",
        "Incidentes del Departamento de Policía de San Francisco del año 2016 del portal de datos públicos de San Francisco. Incidentes derivados del sistema de informes de incidentes delictivos del Departamento de Policía de San Francisco (SFPD). Se actualiza diariamente y muestra los datos de todo el año 2016. La dirección y la ubicación se anonimizaron moviéndose a mitad de cuadra o a una intersección.\n",
        "\n",
        "Descarguemos e importemos los datos sobre los incidentes del departamento de policía usando el método de *pandas* `read_csv()`.\n",
        "\n",
        "En esta sección trabajaremos con los datos del departamento de policia de San Francisco, un conjunto de datos con los incidentes de 2016. . \n",
        "\n",
        "Guarda el dataset en un dataframe de pandas"
      ],
      "metadata": {
        "button": false,
        "new_sheet": false,
        "run_control": {
          "read_only": false
        },
        "id": "X-58vzbwhv0q"
      }
    },
    {
      "cell_type": "markdown",
      "source": [
        "Descarga el dataset y guárdalo en un dataframe de *pandas*:\n"
      ],
      "metadata": {
        "button": false,
        "new_sheet": false,
        "run_control": {
          "read_only": false
        },
        "id": "2d5XDCbBhv0q"
      }
    },
    {
      "cell_type": "code",
      "source": [
        "\n",
        "URL = 'Police_Incidents.csv'\n",
        "df_incidents =  pd.read_csv(URL)\n"
      ],
      "metadata": {
        "button": false,
        "new_sheet": false,
        "run_control": {
          "read_only": false
        },
        "trusted": true,
        "id": "gQgstphdhv0r"
      },
      "execution_count": null,
      "outputs": []
    },
    {
      "cell_type": "markdown",
      "source": [
        "Echemos un vistazo al dataset:\n"
      ],
      "metadata": {
        "button": false,
        "new_sheet": false,
        "run_control": {
          "read_only": false
        },
        "id": "wStAmhOFhv0r"
      }
    },
    {
      "cell_type": "code",
      "source": [
        "df_incidents.head()"
      ],
      "metadata": {
        "button": false,
        "new_sheet": false,
        "run_control": {
          "read_only": false
        },
        "trusted": true,
        "id": "DO32AZg9hv0r"
      },
      "execution_count": null,
      "outputs": []
    },
    {
      "cell_type": "code",
      "source": [
        "df_incidents['Date'] = pd.to_datetime(df_incidents['Date'])  \n",
        "df_incidents[df_incidents[\"Date\"] <= \"01/01/2016\"]"
      ],
      "metadata": {
        "id": "4bkywzkyG5vP"
      },
      "execution_count": null,
      "outputs": []
    },
    {
      "cell_type": "markdown",
      "source": [
        "El dataset tiene 13 columnas:\n",
        "> 1.  **IncidntNum**: Numero identificativo del incidente\n",
        "> 2.  **Category**: Categoría del incidente\n",
        "> 3.  **Descript**: Descripción del incidente\n",
        "> 4.  **DayOfWeek**: Día de la semana que se produjo el incidente\n",
        "> 5.  **Date**: Fecha que se produjo el incidente\n",
        "> 6.  **Time**: Hora que se produjo el incidente\n",
        "> 7.  **PdDistrict**: Departamento de policia que asistió.\n",
        "> 8.  **Resolution**: Resolución del incidente.\n",
        "> 9.  **Address**: Dirección.\n",
        "> 10. **X**: La longitud del punto donde se produjo el incidente.\n",
        "> 11. **Y**: La latituddel punto donde se produjo el incidente.\n",
        "> 12. **Location**: Una tulpa con la longitud y la latitud.\n",
        "> 13. **PdId**: ID del departamento de policia.\n"
      ],
      "metadata": {
        "button": false,
        "new_sheet": false,
        "run_control": {
          "read_only": false
        },
        "id": "Rqe7Uf-ehv0s"
      }
    },
    {
      "cell_type": "markdown",
      "source": [
        "Como intuiremos el dataset no es precisamente pequeño. Veamos el tamaño:"
      ],
      "metadata": {
        "button": false,
        "new_sheet": false,
        "run_control": {
          "read_only": false
        },
        "id": "W0U9xWS1hv0s"
      }
    },
    {
      "cell_type": "code",
      "source": [
        "df_incidents.shape"
      ],
      "metadata": {
        "button": false,
        "new_sheet": false,
        "run_control": {
          "read_only": false
        },
        "trusted": true,
        "id": "HLyQF2zqhv0s"
      },
      "execution_count": null,
      "outputs": []
    },
    {
      "cell_type": "markdown",
      "source": [
        "Así pues, el conjunto de datos consiste en 150,500 incidentes que sucedieron en 2016. Realizar la  visuliazación de todos los datos será realmente costoso desde el punto de vista computacional. Por tanto, vamos a limitarnos a los primeros 100.\n"
      ],
      "metadata": {
        "button": false,
        "new_sheet": false,
        "run_control": {
          "read_only": false
        },
        "id": "qst8Hn-2hv0t"
      }
    },
    {
      "cell_type": "code",
      "source": [
        "# obtenemos los primeros 100 incidentes en el dataframe df_incidents\n",
        "limit = 100\n",
        "df_incidents = df_incidents.iloc[0:limit, :]"
      ],
      "metadata": {
        "button": false,
        "new_sheet": false,
        "run_control": {
          "read_only": false
        },
        "trusted": true,
        "id": "EMhD2gJihv0t"
      },
      "execution_count": null,
      "outputs": []
    },
    {
      "cell_type": "markdown",
      "source": [
        "Vamos a confirmar que nuestro dataframe ahora consta solo de 100 incidentes.\n"
      ],
      "metadata": {
        "button": false,
        "new_sheet": false,
        "run_control": {
          "read_only": false
        },
        "id": "ek-C9k40hv0u"
      }
    },
    {
      "cell_type": "code",
      "source": [
        "df_incidents.shape"
      ],
      "metadata": {
        "button": false,
        "new_sheet": false,
        "run_control": {
          "read_only": false
        },
        "trusted": true,
        "id": "XNx07vVwhv0u"
      },
      "execution_count": null,
      "outputs": []
    },
    {
      "cell_type": "markdown",
      "source": [
        "Ahora que redujimos un poco los datos, visualicemos dónde ocurrieron estos crímenes en la ciudad de San Francisco. Usaremos el estilo predeterminado e inicializaremos el nivel de zoom a 12.\n"
      ],
      "metadata": {
        "button": false,
        "new_sheet": false,
        "run_control": {
          "read_only": false
        },
        "id": "jyXEG7kPhv0v"
      }
    },
    {
      "cell_type": "code",
      "source": [
        "# Valores de latitud y longitud de San Francisco\n",
        "latitude = 37.77\n",
        "longitude = -122.42"
      ],
      "metadata": {
        "button": false,
        "new_sheet": false,
        "run_control": {
          "read_only": false
        },
        "trusted": true,
        "id": "izHLH3Ughv0v"
      },
      "execution_count": null,
      "outputs": []
    },
    {
      "cell_type": "code",
      "source": [
        "# creamos el mapa y lo mostramos\n",
        "sanfran_map = folium.Map(location=[latitude, longitude], zoom_start=12)\n",
        "\n",
        "# mostramos el mapa de San Francisco\n",
        "sanfran_map"
      ],
      "metadata": {
        "button": false,
        "new_sheet": false,
        "run_control": {
          "read_only": false
        },
        "trusted": true,
        "id": "M2qnwT1Lhv0v"
      },
      "execution_count": null,
      "outputs": []
    },
    {
      "cell_type": "markdown",
      "source": [
        "Ahora superpongamos las ubicaciones de los crímenes en el mapa. La forma de hacerlo en **Folium** es crear un *feature group* (grupo de caractarísticas) con sus propias características y estilo y luego agregarlo a `sanfran_map`.\n"
      ],
      "metadata": {
        "button": false,
        "new_sheet": false,
        "run_control": {
          "read_only": false
        },
        "id": "iYWLsIIvhv0v"
      }
    },
    {
      "cell_type": "code",
      "source": [
        "# instanciamos un feature group para los incidentes en el dataframe\n",
        "incidents = folium.map.FeatureGroup()\n",
        "\n",
        "# recorremos los 100 delitos y agregamos cada uno al feature group de incidentes\n",
        "for lat, lng, in zip(df_incidents.Y, df_incidents.X):\n",
        "    incidents.add_child(\n",
        "        folium.features.CircleMarker(\n",
        "            [lat, lng],\n",
        "            radius=5, # definimos cuan grande queremos que sean los marcadores circulares\n",
        "            color='yellow',\n",
        "            fill=True,\n",
        "            fill_color='blue',\n",
        "            fill_opacity=0.6\n",
        "        )\n",
        "    )\n",
        "\n",
        "# añadimos los incidentes al mapa\n",
        "sanfran_map.add_child(incidents)"
      ],
      "metadata": {
        "button": false,
        "new_sheet": false,
        "run_control": {
          "read_only": false
        },
        "trusted": true,
        "id": "Lsl98Xeehv0v"
      },
      "execution_count": null,
      "outputs": []
    },
    {
      "cell_type": "markdown",
      "source": [
        "También podemos agregar un texto emergente que se mostrará cuando pase el cursor sobre un marcador. Hagamos que cada marcador muestre la categoría del incidente cuando pase el cursor sobre él.\n"
      ],
      "metadata": {
        "button": false,
        "new_sheet": false,
        "run_control": {
          "read_only": false
        },
        "id": "OZmeWudBhv0w"
      }
    },
    {
      "cell_type": "code",
      "source": [
        "# instanciamos un feature group para los incidentes en el dataframe\n",
        "incidents = folium.map.FeatureGroup()\n",
        "\n",
        "# recorremos los 100 delitos y agregamos cada uno al feature group de incidentes\n",
        "for lat, lng, in zip(df_incidents.Y, df_incidents.X):\n",
        "    incidents.add_child(\n",
        "        folium.features.CircleMarker(\n",
        "            [lat, lng],\n",
        "            radius=5, # definimos cuan grande queremos que sean los marcadores circulares\n",
        "            color='yellow',\n",
        "            fill=True,\n",
        "            fill_color='blue',\n",
        "            fill_opacity=0.6\n",
        "        )\n",
        "    )\n",
        "\n",
        "# añadimos el texto emergente a cada marcador en el mapa\n",
        "latitudes = list(df_incidents.Y)\n",
        "longitudes = list(df_incidents.X)\n",
        "labels = list(df_incidents.Category)\n",
        "\n",
        "for lat, lng, label in zip(latitudes, longitudes, labels):\n",
        "    folium.Marker([lat, lng], popup=label).add_to(sanfran_map)    \n",
        "    \n",
        "# añadimos los incidentes al mapa\n",
        "sanfran_map.add_child(incidents)"
      ],
      "metadata": {
        "button": false,
        "new_sheet": false,
        "run_control": {
          "read_only": false
        },
        "trusted": true,
        "id": "SzCLCJJKhv0w"
      },
      "execution_count": null,
      "outputs": []
    },
    {
      "cell_type": "markdown",
      "source": [
        "¿No es esto realmente genial? Ahora puedes saber qué categoría de incidente ocurrió en cada marcador.\n",
        "\n",
        "Si encuentras que el mapa está tan congestionado con todos estos marcadores, hay dos soluciones para este problema. La más simple es eliminar estos marcadores de ubicación y simplemente agregar el texto a los marcadores de círculo de la siguiente manera:\n"
      ],
      "metadata": {
        "button": false,
        "new_sheet": false,
        "run_control": {
          "read_only": false
        },
        "id": "0OaZDdCGhv0x"
      }
    },
    {
      "cell_type": "code",
      "source": [
        "# creamos el mapa y lo mostramos\n",
        "sanfran_map = folium.Map(location=[latitude, longitude], zoom_start=12)\n",
        "\n",
        "# recorremos los 100 delitos y agregamos cada uno al mapa\n",
        "for lat, lng, label in zip(df_incidents.Y, df_incidents.X, df_incidents.Category):\n",
        "    folium.features.CircleMarker(\n",
        "        [lat, lng],\n",
        "        radius=5, # definimos cuan grande queremos que sean los marcadores circulares\n",
        "        color='yellow',\n",
        "        fill=True,\n",
        "        popup=label,\n",
        "        fill_color='blue',\n",
        "        fill_opacity=0.6\n",
        "    ).add_to(sanfran_map)\n",
        "\n",
        "# mostramos el mapa\n",
        "sanfran_map"
      ],
      "metadata": {
        "button": false,
        "new_sheet": false,
        "run_control": {
          "read_only": false
        },
        "trusted": true,
        "id": "2wCC424Jhv0x"
      },
      "execution_count": null,
      "outputs": []
    },
    {
      "cell_type": "markdown",
      "source": [
        "La otra solución es agrupar los marcadores en diferentes grupos. Luego, cada grupo se representa por el número de delitos en cada barrio. Estos grupos se pueden considerar como focos de San Francisco que pueden ser analizados por separado.\n",
        "\n",
        "Para implementar esto, comenzamos instanciando un objeto *MarkerCluster* y agregando todos los puntos de datos en el dataframe a este objeto.\n"
      ],
      "metadata": {
        "button": false,
        "new_sheet": false,
        "run_control": {
          "read_only": false
        },
        "id": "eiurlqmMhv0x"
      }
    },
    {
      "cell_type": "code",
      "source": [
        "from folium import plugins\n",
        "\n",
        "# empecemos de nuevo con una copia limpia del mapa de San Francisco\n",
        "sanfran_map = folium.Map(location = [latitude, longitude], zoom_start = 12)\n",
        "\n",
        "# instanciamos un objeto mark cluster para los incidentes en el dataframe\n",
        "incidents = plugins.MarkerCluster().add_to(sanfran_map)\n",
        "\n",
        "# recorremos el dataframe y agregamos cada punto de datos al mark cluster\n",
        "for lat, lng, label, in zip(df_incidents.Y, df_incidents.X, df_incidents.Category):\n",
        "    folium.Marker(\n",
        "        location=[lat, lng],\n",
        "        icon=None,\n",
        "        popup=label,\n",
        "    ).add_to(incidents)\n",
        "\n",
        "# mostramos el mapa\n",
        "sanfran_map"
      ],
      "metadata": {
        "button": false,
        "new_sheet": false,
        "run_control": {
          "read_only": false
        },
        "trusted": true,
        "id": "abtjjSbehv0x"
      },
      "execution_count": null,
      "outputs": []
    },
    {
      "cell_type": "markdown",
      "source": [
        "Observa cómo, cuando se aleja por completo, todos los marcadores se agrupan en un grupo, *el global cluster*, de 100 marcadores o incidentes, que es el número total de incidentes en nuestro dataframe. Una vez que comiences a acercar, el *global cluster* comenzará a dividirse en grupos más pequeños. Acercar por completo dará como resultado marcadores individuales.\n"
      ],
      "metadata": {
        "button": false,
        "new_sheet": false,
        "run_control": {
          "read_only": false
        },
        "id": "npa0fqAfhv0y"
      }
    },
    {
      "cell_type": "markdown",
      "source": [
        "# Mapas de Coropletas <a id=\"8\"></a>\n",
        "\n",
        "Un mapa de `Coropletas` es un mapa temático en el que las áreas están sombreadas o modeladas en proporción a la medida de la variable estadística que se muestra en el mapa, como la densidad de población o el ingreso per cápita. El mapa de coropletas proporciona una manera fácil de visualizar cómo varía una medida en un área geográfica, o muestra el nivel de variabilidad dentro de una región. A continuación se muestra un mapa de `Coropletas` de los EE. UU. que muestra la población por milla cuadrada por estado.\n",
        "\n",
        "<img src = \"https://cf-courses-data.s3.us.cloud-object-storage.appdomain.cloud/IBMDeveloperSkillsNetwork-DV0101EN-SkillsNetwork/labs/Module%205/images/2000_census_population_density_map_by_state.png\" width = 600> \n"
      ],
      "metadata": {
        "button": false,
        "new_sheet": false,
        "run_control": {
          "read_only": false
        },
        "id": "WnHFCpdrhv0y"
      }
    },
    {
      "cell_type": "markdown",
      "source": [
        "Ahora, vamos a crear nuestro propio mapa de `Coropletas` del mundo que represente la inmigración de varios países a Canadá.\n"
      ],
      "metadata": {
        "button": false,
        "new_sheet": false,
        "run_control": {
          "read_only": false
        },
        "id": "NluiIA5Hhv01"
      }
    },
    {
      "cell_type": "markdown",
      "source": [
        "Descarga el dataset de inmigración canadiense y guárdalo en un dataframe de *pandas*.\n"
      ],
      "metadata": {
        "button": false,
        "new_sheet": false,
        "run_control": {
          "read_only": false
        },
        "id": "c83HML_Zhv01"
      }
    },
    {
      "cell_type": "code",
      "source": [
        "df_can = pd.read_excel(\"Canada.xlsx\")\n"
      ],
      "metadata": {
        "button": false,
        "new_sheet": false,
        "run_control": {
          "read_only": false
        },
        "trusted": true,
        "id": "yRYshjZFhv01"
      },
      "execution_count": null,
      "outputs": []
    },
    {
      "cell_type": "markdown",
      "source": [
        "Echemos un vistazo a los primeros cinco elementos de nuestro dataset.\n"
      ],
      "metadata": {
        "button": false,
        "new_sheet": false,
        "run_control": {
          "read_only": false
        },
        "id": "6Vxue8A6hv02"
      }
    },
    {
      "cell_type": "code",
      "source": [
        "df_can.head()"
      ],
      "metadata": {
        "button": false,
        "new_sheet": false,
        "run_control": {
          "read_only": false
        },
        "scrolled": true,
        "trusted": true,
        "id": "jg5WfWjLhv02"
      },
      "execution_count": null,
      "outputs": []
    },
    {
      "cell_type": "markdown",
      "source": [
        "Averigüemos cuántas entradas hay en nuestro dataset.\n"
      ],
      "metadata": {
        "button": false,
        "new_sheet": false,
        "run_control": {
          "read_only": false
        },
        "id": "FHP_K5HVhv02"
      }
    },
    {
      "cell_type": "code",
      "source": [
        "# imprimimos las dimensiones del dataframe\n",
        "print(df_can.shape)"
      ],
      "metadata": {
        "button": false,
        "new_sheet": false,
        "run_control": {
          "read_only": false
        },
        "trusted": true,
        "id": "9HDpmImyhv02"
      },
      "execution_count": null,
      "outputs": []
    },
    {
      "cell_type": "markdown",
      "source": [
        "Limpiamos los datos. Haremos algunas modificaciones al dataset original para que sea más fácil crear nuestras visualizaciones. Consulta los cuadernos *Introducción a Matplotlib y gráficos de líneas* y *Gráficos de área, histogramas y gráficos de barras* para obtener una descripción detallada de este preprocesamiento.\n"
      ],
      "metadata": {
        "button": false,
        "new_sheet": false,
        "run_control": {
          "read_only": false
        },
        "id": "Lqq1tbfQhv03"
      }
    },
    {
      "cell_type": "code",
      "source": [
        "# limpiamos el dataset eliminando columnas innecesarias (ej. REG) \n",
        "df_can.drop(['AREA','REG','DEV','Type','Coverage'], axis=1, inplace=True)\n",
        "\n",
        "# cambiemos el nombre de las columnas para que tengan sentido\n",
        "df_can.rename(columns={'OdName':'Country', 'AreaName':'Continent','RegName':'Region'}, inplace=True)\n",
        "\n",
        "# para ser coherentes, hagamos que todas las etiquetas de las columnas sean de tipo string\n",
        "df_can.columns = list(map(str, df_can.columns))\n",
        "\n",
        "# añadimos la columna Total\n",
        "df_can['Total'] = df_can.sum(axis=1)\n",
        "\n",
        "# años que usaremos en esta lección - útil para trazar más adelante\n",
        "years = list(map(str, range(1980, 2014)))\n",
        "print ('data dimensions:', df_can.shape)"
      ],
      "metadata": {
        "button": false,
        "new_sheet": false,
        "run_control": {
          "read_only": false
        },
        "scrolled": true,
        "trusted": true,
        "id": "AXU0ZCIMhv03"
      },
      "execution_count": null,
      "outputs": []
    },
    {
      "cell_type": "markdown",
      "source": [
        "Echemos un vistazo a los primeros cinco elementos de nuestro nuevo dataframe.\n"
      ],
      "metadata": {
        "button": false,
        "new_sheet": false,
        "run_control": {
          "read_only": false
        },
        "id": "ZNNzacBkhv03"
      }
    },
    {
      "cell_type": "code",
      "source": [
        "df_can.head()"
      ],
      "metadata": {
        "button": false,
        "new_sheet": false,
        "run_control": {
          "read_only": false
        },
        "trusted": true,
        "id": "qwqwTHYdhv03"
      },
      "execution_count": null,
      "outputs": []
    },
    {
      "cell_type": "markdown",
      "source": [
        "Para crear un mapa de `Coropletas`, necesitamos un archivo GeoJSON que defina las áreas/límites del estado, condado o país que nos interesa. En nuestro caso, dado que estamos creando un mapa del mundo, queremos un GeoJSON que defina los límites de todos los países del mundo. Para facilitar la tarea, te proporcionaremos este archivo, así que adelante, cárgalo.\n"
      ],
      "metadata": {
        "button": false,
        "new_sheet": false,
        "run_control": {
          "read_only": false
        },
        "id": "HS3jVG22hv04"
      }
    },
    {
      "cell_type": "code",
      "source": [
        "\n",
        "import json\n",
        "\n",
        "with open(\"world_countries.json\", 'r') as f:\n",
        "  world_geo=json.load(f)\n"
      ],
      "metadata": {
        "button": false,
        "new_sheet": false,
        "run_control": {
          "read_only": false
        },
        "trusted": true,
        "id": "EhfcHa51hv04"
      },
      "execution_count": null,
      "outputs": []
    },
    {
      "cell_type": "markdown",
      "source": [
        "Ahora que tenemos el archivo GeoJSON, vamos a crear un mapa del mundo, centrado alrededor de los valores **\\[0, 0]** *latitud* y *longitud*, con un nivel de zoom inicial de 2.\n"
      ],
      "metadata": {
        "button": false,
        "new_sheet": false,
        "run_control": {
          "read_only": false
        },
        "id": "wYv-R17ohv04"
      }
    },
    {
      "cell_type": "code",
      "source": [
        "# creamos un mapa del mundo plano\n",
        "world_map = folium.Map(location=[0, 0], zoom_start=2)"
      ],
      "metadata": {
        "button": false,
        "new_sheet": false,
        "run_control": {
          "read_only": false
        },
        "trusted": true,
        "id": "aDUkQJFchv05"
      },
      "execution_count": null,
      "outputs": []
    },
    {
      "cell_type": "markdown",
      "source": [
        "Y ahora, para crear un mapa de `Coropletas`, usaremos el método *choropleth* con los siguientes parámetros principales:\n",
        "\n",
        "1.  `geo_data`, que es el archivo GeoJSON.\n",
        "2.  `data`, que es el dataframe que contiene los datos.\n",
        "3.  `columns`, que representa las columnas en el dataframe que se usarán para crear el mapa de `Coropletas`.\n",
        "4.  `key_on`, que es la clave o variable en el archivo GeoJSON que contiene el nombre de la variable de interés. Para determinar esto, deberás abrir el archivo GeoJSON usando cualquier editor de texto y anotar el nombre de la clave o variable que contiene el nombre de los países, ya que los países son nuestra variable de interés. En este caso, **name** es la clave en el archivo GeoJSON que contiene el nombre de los países. Ten en cuenta que esta clave distingue entre mayúsculas y minúsculas, por lo que debes pasar exactamente como está en el archivo GeoJSON.\n"
      ],
      "metadata": {
        "button": false,
        "new_sheet": false,
        "run_control": {
          "read_only": false
        },
        "id": "czM67ON6hv05"
      }
    },
    {
      "cell_type": "code",
      "source": [
        "# generamos un mapa de coropletas utilizando la inmigración total de cada país a Canadá desde 1980 hasta 2013\n",
        "world_map.choropleth(\n",
        "    geo_data=world_geo,\n",
        "    data=df_can,\n",
        "    columns=['Country', 'Total'],\n",
        "    key_on='feature.properties.name',\n",
        "    fill_color='YlOrRd', \n",
        "    fill_opacity=0.7, \n",
        "    line_opacity=0.2,\n",
        "    legend_name='Immigration to Canada'\n",
        ")\n",
        "\n",
        "# mostramos el mapa\n",
        "world_map"
      ],
      "metadata": {
        "button": false,
        "new_sheet": false,
        "run_control": {
          "read_only": false
        },
        "trusted": true,
        "id": "_j7irCnxhv05"
      },
      "execution_count": null,
      "outputs": []
    },
    {
      "cell_type": "markdown",
      "source": [
        "Según la leyenda de nuestro mapa de \"Coropletas\", cuanto más oscuro es el color de un país y más cercano al rojo, mayor es el número de inmigrantes de ese país. En consecuencia, la mayor inmigración en el transcurso de 33 años (de 1980 a 2013) provino de China, India y Filipinas, seguidos de Polonia, Pakistán y, curiosamente, EE. UU.\n"
      ],
      "metadata": {
        "button": false,
        "new_sheet": false,
        "run_control": {
          "read_only": false
        },
        "id": "SX7BeI6Mhv06"
      }
    },
    {
      "cell_type": "markdown",
      "source": [
        "Observa cómo la leyenda muestra un límite o umbral negativo. ¡Arreglemos eso definiendo nuestros propios umbrales y comenzando con 0 en lugar de -6,918!\n"
      ],
      "metadata": {
        "button": false,
        "new_sheet": false,
        "run_control": {
          "read_only": false
        },
        "id": "7lOhsIL3hv06"
      }
    },
    {
      "cell_type": "code",
      "source": [
        "# creamos un array numpy de longitud 6 y tiene un espacio lineal desde la inmigración total mínima hasta la inmigración total máxima\n",
        "threshold_scale = np.linspace(df_can['Total'].min(),\n",
        "                              df_can['Total'].max(),\n",
        "                              6, dtype=int)\n",
        "threshold_scale = threshold_scale.tolist() # cambiamos el array numpy a una lista\n",
        "threshold_scale[-1] = threshold_scale[-1] + 1 # asegúrate de que el último valor de la lista sea mayor que la inmigración máxima\n",
        "\n",
        "# dejamos que Folium determine la escala\n",
        "world_map = folium.Map(location=[0, 0], zoom_start=2)\n",
        "world_map.choropleth(\n",
        "    geo_data=world_geo,\n",
        "    data=df_can,\n",
        "    columns=['Country', 'Total'],\n",
        "    key_on='feature.properties.name',\n",
        "    threshold_scale=threshold_scale,\n",
        "    fill_color='YlOrRd', \n",
        "    fill_opacity=0.7, \n",
        "    line_opacity=0.2,\n",
        "    legend_name='Immigration to Canada',\n",
        "    reset=True\n",
        ")\n",
        "world_map"
      ],
      "metadata": {
        "button": false,
        "new_sheet": false,
        "run_control": {
          "read_only": false
        },
        "trusted": true,
        "id": "gQmKddY0hv06"
      },
      "execution_count": null,
      "outputs": []
    },
    {
      "cell_type": "markdown",
      "source": [
        "¡Mucho mejor ahora! Siéntete libre de jugar con los datos y tal vez crear mapas de 'Coropletas' para años individuales, o quizás décadas, y ver cómo se comparan con el período completo desde 1980 hasta 2013.\n"
      ],
      "metadata": {
        "button": false,
        "new_sheet": false,
        "run_control": {
          "read_only": false
        },
        "id": "-wqNGKZRhv07"
      }
    },
    {
      "cell_type": "code",
      "source": [],
      "metadata": {
        "id": "Ma5Efomx3w7A"
      },
      "execution_count": null,
      "outputs": []
    }
  ]
}